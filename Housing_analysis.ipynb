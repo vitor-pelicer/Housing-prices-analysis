{
 "cells": [
  {
   "cell_type": "markdown",
   "metadata": {},
   "source": [
    "Para realizar a análise, regressão e classificação, escolhemos o dataset Housing Prices, disponível em:\n",
    "\n",
    "https://www.kaggle.com/datasets/yasserh/housing-prices-dataset"
   ]
  },
  {
   "cell_type": "markdown",
   "metadata": {},
   "source": [
    "O dataset é composto por apenas 1 arquivo .csv separado por vírgulas (\",\")\n",
    "O arquivo contém 13 colunas, sendo o objetivo realizar a regressão para inferir o preço das casas."
   ]
  },
  {
   "cell_type": "markdown",
   "metadata": {},
   "source": [
    "1) importar as dependências necessárias"
   ]
  },
  {
   "cell_type": "code",
   "execution_count": null,
   "metadata": {},
   "outputs": [],
   "source": [
    "import pandas as pd\n",
    "import numpy as np\n",
    "import matplotlib.pyplot as plt\n",
    "import seaborn as sns\n",
    "from sklearn.preprocessing import LabelEncoder, RobustScaler"
   ]
  },
  {
   "cell_type": "markdown",
   "metadata": {},
   "source": [
    "2) leitura do arquivo"
   ]
  },
  {
   "cell_type": "code",
   "execution_count": null,
   "metadata": {},
   "outputs": [],
   "source": [
    "df = pd.read_csv('Housing.csv', delimiter=',', header=0)\n",
    "df.info()"
   ]
  },
  {
   "cell_type": "markdown",
   "metadata": {},
   "source": [
    "3) limpeza de dados indesejados"
   ]
  },
  {
   "cell_type": "code",
   "execution_count": null,
   "metadata": {},
   "outputs": [],
   "source": [
    "df_cp = df.copy()\n",
    "df_cp = df_cp.drop_duplicates()\n",
    "obj_cols = [col for col in df_cp.columns if df_cp[col].dtype == 'object']\n",
    "# para colunas de valor booleano (sim ou não) devem existir apenas 2 tipos de resposta, furnishingstatus deve possuir 3 valores\n",
    "print(f\"Valores repetidos:\\n{df_cp[obj_cols].nunique()}\")\n",
    "\n",
    "# caso exista valores fora do padrão, devem ser substituidos\n",
    "valores_aceitos = ['yes', 'no']\n",
    "valores_furnishingstatus = ['furnished', 'semi-furnished', 'unfurnished']\n",
    "\n",
    "for col in df_cp.columns:\n",
    "    if col in obj_cols:\n",
    "        if col == 'furnishingstatus':\n",
    "            df_cp[col] = df_cp[col].apply(lambda x: x if x in valores_furnishingstatus else 'unfurnished')\n",
    "        else:\n",
    "            df_cp[col] = df_cp[col].apply(lambda x: x if x in valores_aceitos else 'no')\n",
    "    else:\n",
    "        df_cp[col] = df_cp[col].fillna(df_cp[col].median())\n",
    "\n",
    "\n",
    "print(f\"\\n\\nValores faltantes:\\n{df_cp.isnull().sum()}\")"
   ]
  },
  {
   "cell_type": "markdown",
   "metadata": {},
   "source": [
    "4) Transformação dos dados de atributos qualitativos para quantitativos"
   ]
  },
  {
   "cell_type": "code",
   "execution_count": null,
   "metadata": {},
   "outputs": [],
   "source": [
    "# transformação de dados qualitativos em quantitativos\n",
    "le = LabelEncoder()\n",
    "for col in obj_cols:\n",
    "  df_cp[col] = le.fit_transform(df_cp[col])\n"
   ]
  },
  {
   "cell_type": "markdown",
   "metadata": {},
   "source": [
    "5) mostrar a correlação entre colunas"
   ]
  },
  {
   "cell_type": "code",
   "execution_count": null,
   "metadata": {},
   "outputs": [],
   "source": [
    "# plot do mapa de calor de correlação\n",
    "corr_person = df_cp.corr(method='pearson')\n",
    "corr_sperman = df_cp.corr(method='spearman')\n",
    "corr_kendall = df_cp.corr(method='kendall')\n",
    "corr_list = [corr_person, corr_sperman, corr_kendall]\n",
    "for corr in corr_list:\n",
    "  plt.figure(figsize=(8, 6))\n",
    "  sns.heatmap(corr, cmap=\"YlGnBu\", annot=True, fmt=\".1f\")"
   ]
  },
  {
   "cell_type": "markdown",
   "metadata": {},
   "source": [
    "É possível verificar que Price possui índices de correlação rasoáveis.\n",
    "\n",
    "No geral, isso pode implicar em boa acurácia para regressão do campo Price.\n",
    "\n",
    "Para a redução de dimensionalidade, é escolhido remover o campo com menor correlação para as colunas alvo (hotwaterheating), que possui correlação 0.1 com o campo price.\n"
   ]
  },
  {
   "cell_type": "code",
   "execution_count": null,
   "metadata": {},
   "outputs": [],
   "source": [
    "del df_cp['hotwaterheating']"
   ]
  },
  {
   "cell_type": "markdown",
   "metadata": {},
   "source": [
    "6) Análise descritiva"
   ]
  },
  {
   "cell_type": "code",
   "execution_count": null,
   "metadata": {},
   "outputs": [],
   "source": [
    "df_cp[[\"price\",\"area\"]].describe()"
   ]
  },
  {
   "cell_type": "code",
   "execution_count": null,
   "metadata": {},
   "outputs": [],
   "source": [
    "colunas_alvo = [\"price\",\"area\",\"bedrooms\",\"bathrooms\",\"stories\"]\n",
    "fig, axs = plt.subplots(ncols=5, figsize=(25,3))\n",
    "for i, col in enumerate(colunas_alvo):\n",
    "  axs[i].set_title(f'Distribuição de {col}')\n",
    "  sns.histplot(df_cp, x=col, ax=axs[i])\n"
   ]
  },
  {
   "cell_type": "markdown",
   "metadata": {},
   "source": [
    "Outro ponto é que as variáveis quantitativas do dataset seguem a distribuição normal, o que é um bom sinal e é esperado. A padronização é um bom cadidato para este conjunto de dados, por conta do que foi pontuado aqui."
   ]
  },
  {
   "cell_type": "markdown",
   "metadata": {},
   "source": [
    "7) Descobrir se existem outliers nas colunas"
   ]
  },
  {
   "cell_type": "code",
   "execution_count": null,
   "metadata": {},
   "outputs": [],
   "source": [
    "colunas_alvo = [\"price\",\"area\"]\n",
    "fig, axs = plt.subplots(ncols=2, figsize=(12,4))\n",
    "for i, col in enumerate(colunas_alvo):\n",
    "  axs[i].set_title(f'Outliers de {col}')\n",
    "  sns.boxplot(df_cp, y=col, ax=axs[i])\n"
   ]
  },
  {
   "cell_type": "markdown",
   "metadata": {},
   "source": [
    "É possível perceber que existem outliers em ambas as colunas. Mas por serem valores aceitáveis, mesmo que altos, serão mantidos para a análise final.\n",
    "\n",
    "Para fins de demonstração, o código para remoção dos outliers é implementado."
   ]
  },
  {
   "cell_type": "code",
   "execution_count": null,
   "metadata": {},
   "outputs": [],
   "source": [
    "colunas_alvo = [\"price\",\"area\"]\n",
    "df_clean = df_cp.copy()\n",
    "for col in colunas_alvo:\n",
    "  Q1 = df_clean[col].quantile(0.25)\n",
    "  Q3 = df_clean[col].quantile(0.75)\n",
    "  IQR = Q3 - Q1\n",
    "  limite_inferior = Q1 - 1.5 * IQR\n",
    "  limite_superior = Q3 + 1.5 * IQR\n",
    "  df_clean = df_clean[(df_clean[col] >= limite_inferior) & (df_clean[col] <= limite_superior)]\n",
    "\n",
    "fig, axs = plt.subplots(ncols=2, figsize=(12,4))\n",
    "for i, col in enumerate(colunas_alvo):\n",
    "  axs[i].set_title(f'Outliers de {col}')\n",
    "  sns.boxplot(df_clean, y=col, ax=axs[i])"
   ]
  },
  {
   "cell_type": "markdown",
   "metadata": {},
   "source": [
    "8) Normalização dos dados"
   ]
  },
  {
   "cell_type": "code",
   "execution_count": null,
   "metadata": {},
   "outputs": [],
   "source": [
    "rs = RobustScaler()\n",
    "X_stand = rs.fit_transform(df_cp)\n",
    "\n",
    "df_rs = pd.DataFrame(X_stand, columns=['price', 'area', 'bedrooms', 'bathrooms', 'stories', 'mainroad',\n",
    "       'guestroom', 'basement', 'airconditioning', 'parking', 'prefarea',\n",
    "       'furnishingstatus'])\n",
    "\n",
    "# código para desfazer a transformação\n",
    "# dados = rs.inverse_transform(df_rs)\n",
    "# df_back = pd.DataFrame(dados, columns=['price', 'area', 'bedrooms', 'bathrooms', 'stories', 'mainroad',\n",
    "#        'guestroom', 'basement', 'airconditioning', 'parking', 'prefarea',\n",
    "#        'furnishingstatus'])\n",
    "\n",
    "df_rs.head()"
   ]
  },
  {
   "cell_type": "markdown",
   "metadata": {},
   "source": [
    "9) divisão do dataset em conjunto de treinamento e conjunto de teste"
   ]
  },
  {
   "cell_type": "code",
   "execution_count": null,
   "metadata": {},
   "outputs": [],
   "source": [
    "training = df_rs.sample(frac=0.8)\n",
    "test = df_rs.drop(training.index)\n",
    "\n",
    "training_y = training['price']\n",
    "test_y = test['price']\n",
    "\n",
    "del training['price']\n",
    "del test['price']"
   ]
  },
  {
   "cell_type": "markdown",
   "metadata": {},
   "source": [
    "Treinamento do algoritmo para price"
   ]
  },
  {
   "cell_type": "code",
   "execution_count": null,
   "metadata": {},
   "outputs": [],
   "source": []
  }
 ],
 "metadata": {
  "kernelspec": {
   "display_name": "data_venv",
   "language": "python",
   "name": "data_venv"
  },
  "language_info": {
   "codemirror_mode": {
    "name": "ipython",
    "version": 3
   },
   "file_extension": ".py",
   "mimetype": "text/x-python",
   "name": "python",
   "nbconvert_exporter": "python",
   "pygments_lexer": "ipython3",
   "version": "3.10.12"
  }
 },
 "nbformat": 4,
 "nbformat_minor": 2
}
